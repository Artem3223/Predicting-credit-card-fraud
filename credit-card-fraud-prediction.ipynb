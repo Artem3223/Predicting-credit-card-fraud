{
 "cells": [
  {
   "cell_type": "code",
   "execution_count": 1,
   "metadata": {
    "_cell_guid": "b1076dfc-b9ad-4769-8c92-a6c4dae69d19",
    "_uuid": "8f2839f25d086af736a60e9eeb907d3b93b6e0e5",
    "execution": {
     "iopub.execute_input": "2020-08-29T20:05:21.898419Z",
     "iopub.status.busy": "2020-08-29T20:05:21.897804Z",
     "iopub.status.idle": "2020-08-29T20:05:21.904766Z",
     "shell.execute_reply": "2020-08-29T20:05:21.905351Z"
    },
    "papermill": {
     "duration": 0.034621,
     "end_time": "2020-08-29T20:05:21.905540",
     "exception": false,
     "start_time": "2020-08-29T20:05:21.870919",
     "status": "completed"
    },
    "tags": []
   },
   "outputs": [
    {
     "name": "stdout",
     "output_type": "stream",
     "text": [
      "/kaggle/input/creditcardfraud/creditcard.csv\n"
     ]
    }
   ],
   "source": [
    "# This Python 3 environment comes with many helpful analytics libraries installed\n",
    "# It is defined by the kaggle/python Docker image: https://github.com/kaggle/docker-python\n",
    "# For example, here's several helpful packages to load\n",
    "\n",
    "import numpy as np # linear algebra\n",
    "import pandas as pd # data processing, CSV file I/O (e.g. pd.read_csv)\n",
    "\n",
    "# Input data files are available in the read-only \"../input/\" directory\n",
    "# For example, running this (by clicking run or pressing Shift+Enter) will list all files under the input directory\n",
    "\n",
    "import os\n",
    "for dirname, _, filenames in os.walk('/kaggle/input'):\n",
    "    for filename in filenames:\n",
    "        print(os.path.join(dirname, filename))\n",
    "\n",
    "# You can write up to 5GB to the current directory (/kaggle/working/) that gets preserved as output when you create a version using \"Save & Run All\" \n",
    "# You can also write temporary files to /kaggle/temp/, but they won't be saved outside of the current session"
   ]
  },
  {
   "cell_type": "code",
   "execution_count": 2,
   "metadata": {
    "_cell_guid": "79c7e3d0-c299-4dcb-8224-4455121ee9b0",
    "_uuid": "d629ff2d2480ee46fbb7e2d37f6b5fab8052498a",
    "execution": {
     "iopub.execute_input": "2020-08-29T20:05:21.951159Z",
     "iopub.status.busy": "2020-08-29T20:05:21.950553Z",
     "iopub.status.idle": "2020-08-29T20:05:23.012490Z",
     "shell.execute_reply": "2020-08-29T20:05:23.013239Z"
    },
    "papermill": {
     "duration": 1.087055,
     "end_time": "2020-08-29T20:05:23.013449",
     "exception": false,
     "start_time": "2020-08-29T20:05:21.926394",
     "status": "completed"
    },
    "tags": []
   },
   "outputs": [],
   "source": [
    "# Importing required libraries \n",
    "import numpy as np \n",
    "import pandas as pd \n",
    "import matplotlib.pyplot as plt \n",
    "import seaborn as sns \n",
    "from matplotlib import gridspec"
   ]
  },
  {
   "cell_type": "code",
   "execution_count": 3,
   "metadata": {
    "execution": {
     "iopub.execute_input": "2020-08-29T20:05:23.074340Z",
     "iopub.status.busy": "2020-08-29T20:05:23.073772Z",
     "iopub.status.idle": "2020-08-29T20:05:24.974879Z",
     "shell.execute_reply": "2020-08-29T20:05:24.974245Z"
    },
    "papermill": {
     "duration": 1.931052,
     "end_time": "2020-08-29T20:05:24.975014",
     "exception": false,
     "start_time": "2020-08-29T20:05:23.043962",
     "status": "completed"
    },
    "tags": []
   },
   "outputs": [],
   "source": [
    "# Load the dataset from the csv file using pandas \n",
    "# best way is to mount the drive on colab and  \n",
    "# copy the path for the csv file \n",
    "data = pd.read_csv('/kaggle/input/creditcardfraud/creditcard.csv')"
   ]
  },
  {
   "cell_type": "code",
   "execution_count": 4,
   "metadata": {
    "execution": {
     "iopub.execute_input": "2020-08-29T20:05:25.041220Z",
     "iopub.status.busy": "2020-08-29T20:05:25.040452Z",
     "iopub.status.idle": "2020-08-29T20:05:25.056878Z",
     "shell.execute_reply": "2020-08-29T20:05:25.057395Z"
    },
    "papermill": {
     "duration": 0.061351,
     "end_time": "2020-08-29T20:05:25.057516",
     "exception": false,
     "start_time": "2020-08-29T20:05:24.996165",
     "status": "completed"
    },
    "tags": []
   },
   "outputs": [
    {
     "data": {
      "text/html": [
       "<div>\n",
       "<style scoped>\n",
       "    .dataframe tbody tr th:only-of-type {\n",
       "        vertical-align: middle;\n",
       "    }\n",
       "\n",
       "    .dataframe tbody tr th {\n",
       "        vertical-align: top;\n",
       "    }\n",
       "\n",
       "    .dataframe thead th {\n",
       "        text-align: right;\n",
       "    }\n",
       "</style>\n",
       "<table border=\"1\" class=\"dataframe\">\n",
       "  <thead>\n",
       "    <tr style=\"text-align: right;\">\n",
       "      <th></th>\n",
       "      <th>Time</th>\n",
       "      <th>V1</th>\n",
       "      <th>V2</th>\n",
       "      <th>V3</th>\n",
       "      <th>V4</th>\n",
       "      <th>V5</th>\n",
       "      <th>V6</th>\n",
       "      <th>V7</th>\n",
       "      <th>V8</th>\n",
       "      <th>V9</th>\n",
       "      <th>...</th>\n",
       "      <th>V21</th>\n",
       "      <th>V22</th>\n",
       "      <th>V23</th>\n",
       "      <th>V24</th>\n",
       "      <th>V25</th>\n",
       "      <th>V26</th>\n",
       "      <th>V27</th>\n",
       "      <th>V28</th>\n",
       "      <th>Amount</th>\n",
       "      <th>Class</th>\n",
       "    </tr>\n",
       "  </thead>\n",
       "  <tbody>\n",
       "    <tr>\n",
       "      <th>0</th>\n",
       "      <td>0.0</td>\n",
       "      <td>-1.359807</td>\n",
       "      <td>-0.072781</td>\n",
       "      <td>2.536347</td>\n",
       "      <td>1.378155</td>\n",
       "      <td>-0.338321</td>\n",
       "      <td>0.462388</td>\n",
       "      <td>0.239599</td>\n",
       "      <td>0.098698</td>\n",
       "      <td>0.363787</td>\n",
       "      <td>...</td>\n",
       "      <td>-0.018307</td>\n",
       "      <td>0.277838</td>\n",
       "      <td>-0.110474</td>\n",
       "      <td>0.066928</td>\n",
       "      <td>0.128539</td>\n",
       "      <td>-0.189115</td>\n",
       "      <td>0.133558</td>\n",
       "      <td>-0.021053</td>\n",
       "      <td>149.62</td>\n",
       "      <td>0</td>\n",
       "    </tr>\n",
       "    <tr>\n",
       "      <th>1</th>\n",
       "      <td>0.0</td>\n",
       "      <td>1.191857</td>\n",
       "      <td>0.266151</td>\n",
       "      <td>0.166480</td>\n",
       "      <td>0.448154</td>\n",
       "      <td>0.060018</td>\n",
       "      <td>-0.082361</td>\n",
       "      <td>-0.078803</td>\n",
       "      <td>0.085102</td>\n",
       "      <td>-0.255425</td>\n",
       "      <td>...</td>\n",
       "      <td>-0.225775</td>\n",
       "      <td>-0.638672</td>\n",
       "      <td>0.101288</td>\n",
       "      <td>-0.339846</td>\n",
       "      <td>0.167170</td>\n",
       "      <td>0.125895</td>\n",
       "      <td>-0.008983</td>\n",
       "      <td>0.014724</td>\n",
       "      <td>2.69</td>\n",
       "      <td>0</td>\n",
       "    </tr>\n",
       "    <tr>\n",
       "      <th>2</th>\n",
       "      <td>1.0</td>\n",
       "      <td>-1.358354</td>\n",
       "      <td>-1.340163</td>\n",
       "      <td>1.773209</td>\n",
       "      <td>0.379780</td>\n",
       "      <td>-0.503198</td>\n",
       "      <td>1.800499</td>\n",
       "      <td>0.791461</td>\n",
       "      <td>0.247676</td>\n",
       "      <td>-1.514654</td>\n",
       "      <td>...</td>\n",
       "      <td>0.247998</td>\n",
       "      <td>0.771679</td>\n",
       "      <td>0.909412</td>\n",
       "      <td>-0.689281</td>\n",
       "      <td>-0.327642</td>\n",
       "      <td>-0.139097</td>\n",
       "      <td>-0.055353</td>\n",
       "      <td>-0.059752</td>\n",
       "      <td>378.66</td>\n",
       "      <td>0</td>\n",
       "    </tr>\n",
       "    <tr>\n",
       "      <th>3</th>\n",
       "      <td>1.0</td>\n",
       "      <td>-0.966272</td>\n",
       "      <td>-0.185226</td>\n",
       "      <td>1.792993</td>\n",
       "      <td>-0.863291</td>\n",
       "      <td>-0.010309</td>\n",
       "      <td>1.247203</td>\n",
       "      <td>0.237609</td>\n",
       "      <td>0.377436</td>\n",
       "      <td>-1.387024</td>\n",
       "      <td>...</td>\n",
       "      <td>-0.108300</td>\n",
       "      <td>0.005274</td>\n",
       "      <td>-0.190321</td>\n",
       "      <td>-1.175575</td>\n",
       "      <td>0.647376</td>\n",
       "      <td>-0.221929</td>\n",
       "      <td>0.062723</td>\n",
       "      <td>0.061458</td>\n",
       "      <td>123.50</td>\n",
       "      <td>0</td>\n",
       "    </tr>\n",
       "    <tr>\n",
       "      <th>4</th>\n",
       "      <td>2.0</td>\n",
       "      <td>-1.158233</td>\n",
       "      <td>0.877737</td>\n",
       "      <td>1.548718</td>\n",
       "      <td>0.403034</td>\n",
       "      <td>-0.407193</td>\n",
       "      <td>0.095921</td>\n",
       "      <td>0.592941</td>\n",
       "      <td>-0.270533</td>\n",
       "      <td>0.817739</td>\n",
       "      <td>...</td>\n",
       "      <td>-0.009431</td>\n",
       "      <td>0.798278</td>\n",
       "      <td>-0.137458</td>\n",
       "      <td>0.141267</td>\n",
       "      <td>-0.206010</td>\n",
       "      <td>0.502292</td>\n",
       "      <td>0.219422</td>\n",
       "      <td>0.215153</td>\n",
       "      <td>69.99</td>\n",
       "      <td>0</td>\n",
       "    </tr>\n",
       "  </tbody>\n",
       "</table>\n",
       "<p>5 rows × 31 columns</p>\n",
       "</div>"
      ],
      "text/plain": [
       "   Time        V1        V2        V3        V4        V5        V6        V7  \\\n",
       "0   0.0 -1.359807 -0.072781  2.536347  1.378155 -0.338321  0.462388  0.239599   \n",
       "1   0.0  1.191857  0.266151  0.166480  0.448154  0.060018 -0.082361 -0.078803   \n",
       "2   1.0 -1.358354 -1.340163  1.773209  0.379780 -0.503198  1.800499  0.791461   \n",
       "3   1.0 -0.966272 -0.185226  1.792993 -0.863291 -0.010309  1.247203  0.237609   \n",
       "4   2.0 -1.158233  0.877737  1.548718  0.403034 -0.407193  0.095921  0.592941   \n",
       "\n",
       "         V8        V9  ...       V21       V22       V23       V24       V25  \\\n",
       "0  0.098698  0.363787  ... -0.018307  0.277838 -0.110474  0.066928  0.128539   \n",
       "1  0.085102 -0.255425  ... -0.225775 -0.638672  0.101288 -0.339846  0.167170   \n",
       "2  0.247676 -1.514654  ...  0.247998  0.771679  0.909412 -0.689281 -0.327642   \n",
       "3  0.377436 -1.387024  ... -0.108300  0.005274 -0.190321 -1.175575  0.647376   \n",
       "4 -0.270533  0.817739  ... -0.009431  0.798278 -0.137458  0.141267 -0.206010   \n",
       "\n",
       "        V26       V27       V28  Amount  Class  \n",
       "0 -0.189115  0.133558 -0.021053  149.62      0  \n",
       "1  0.125895 -0.008983  0.014724    2.69      0  \n",
       "2 -0.139097 -0.055353 -0.059752  378.66      0  \n",
       "3 -0.221929  0.062723  0.061458  123.50      0  \n",
       "4  0.502292  0.219422  0.215153   69.99      0  \n",
       "\n",
       "[5 rows x 31 columns]"
      ]
     },
     "execution_count": 4,
     "metadata": {},
     "output_type": "execute_result"
    }
   ],
   "source": [
    "# Grab a peek at the data \n",
    "data.head() "
   ]
  },
  {
   "cell_type": "code",
   "execution_count": 5,
   "metadata": {
    "execution": {
     "iopub.execute_input": "2020-08-29T20:05:25.137469Z",
     "iopub.status.busy": "2020-08-29T20:05:25.136496Z",
     "iopub.status.idle": "2020-08-29T20:05:25.467952Z",
     "shell.execute_reply": "2020-08-29T20:05:25.468780Z"
    },
    "papermill": {
     "duration": 0.389759,
     "end_time": "2020-08-29T20:05:25.468992",
     "exception": false,
     "start_time": "2020-08-29T20:05:25.079233",
     "status": "completed"
    },
    "tags": []
   },
   "outputs": [
    {
     "name": "stdout",
     "output_type": "stream",
     "text": [
      "(284807, 31)\n",
      "                Time            V1            V2            V3            V4  \\\n",
      "count  284807.000000  2.848070e+05  2.848070e+05  2.848070e+05  2.848070e+05   \n",
      "mean    94813.859575  3.919560e-15  5.688174e-16 -8.769071e-15  2.782312e-15   \n",
      "std     47488.145955  1.958696e+00  1.651309e+00  1.516255e+00  1.415869e+00   \n",
      "min         0.000000 -5.640751e+01 -7.271573e+01 -4.832559e+01 -5.683171e+00   \n",
      "25%     54201.500000 -9.203734e-01 -5.985499e-01 -8.903648e-01 -8.486401e-01   \n",
      "50%     84692.000000  1.810880e-02  6.548556e-02  1.798463e-01 -1.984653e-02   \n",
      "75%    139320.500000  1.315642e+00  8.037239e-01  1.027196e+00  7.433413e-01   \n",
      "max    172792.000000  2.454930e+00  2.205773e+01  9.382558e+00  1.687534e+01   \n",
      "\n",
      "                 V5            V6            V7            V8            V9  \\\n",
      "count  2.848070e+05  2.848070e+05  2.848070e+05  2.848070e+05  2.848070e+05   \n",
      "mean  -1.552563e-15  2.010663e-15 -1.694249e-15 -1.927028e-16 -3.137024e-15   \n",
      "std    1.380247e+00  1.332271e+00  1.237094e+00  1.194353e+00  1.098632e+00   \n",
      "min   -1.137433e+02 -2.616051e+01 -4.355724e+01 -7.321672e+01 -1.343407e+01   \n",
      "25%   -6.915971e-01 -7.682956e-01 -5.540759e-01 -2.086297e-01 -6.430976e-01   \n",
      "50%   -5.433583e-02 -2.741871e-01  4.010308e-02  2.235804e-02 -5.142873e-02   \n",
      "75%    6.119264e-01  3.985649e-01  5.704361e-01  3.273459e-01  5.971390e-01   \n",
      "max    3.480167e+01  7.330163e+01  1.205895e+02  2.000721e+01  1.559499e+01   \n",
      "\n",
      "       ...           V21           V22           V23           V24  \\\n",
      "count  ...  2.848070e+05  2.848070e+05  2.848070e+05  2.848070e+05   \n",
      "mean   ...  1.537294e-16  7.959909e-16  5.367590e-16  4.458112e-15   \n",
      "std    ...  7.345240e-01  7.257016e-01  6.244603e-01  6.056471e-01   \n",
      "min    ... -3.483038e+01 -1.093314e+01 -4.480774e+01 -2.836627e+00   \n",
      "25%    ... -2.283949e-01 -5.423504e-01 -1.618463e-01 -3.545861e-01   \n",
      "50%    ... -2.945017e-02  6.781943e-03 -1.119293e-02  4.097606e-02   \n",
      "75%    ...  1.863772e-01  5.285536e-01  1.476421e-01  4.395266e-01   \n",
      "max    ...  2.720284e+01  1.050309e+01  2.252841e+01  4.584549e+00   \n",
      "\n",
      "                V25           V26           V27           V28         Amount  \\\n",
      "count  2.848070e+05  2.848070e+05  2.848070e+05  2.848070e+05  284807.000000   \n",
      "mean   1.453003e-15  1.699104e-15 -3.660161e-16 -1.206049e-16      88.349619   \n",
      "std    5.212781e-01  4.822270e-01  4.036325e-01  3.300833e-01     250.120109   \n",
      "min   -1.029540e+01 -2.604551e+00 -2.256568e+01 -1.543008e+01       0.000000   \n",
      "25%   -3.171451e-01 -3.269839e-01 -7.083953e-02 -5.295979e-02       5.600000   \n",
      "50%    1.659350e-02 -5.213911e-02  1.342146e-03  1.124383e-02      22.000000   \n",
      "75%    3.507156e-01  2.409522e-01  9.104512e-02  7.827995e-02      77.165000   \n",
      "max    7.519589e+00  3.517346e+00  3.161220e+01  3.384781e+01   25691.160000   \n",
      "\n",
      "               Class  \n",
      "count  284807.000000  \n",
      "mean        0.001727  \n",
      "std         0.041527  \n",
      "min         0.000000  \n",
      "25%         0.000000  \n",
      "50%         0.000000  \n",
      "75%         0.000000  \n",
      "max         1.000000  \n",
      "\n",
      "[8 rows x 31 columns]\n"
     ]
    }
   ],
   "source": [
    "# Print the shape of the data \n",
    "# data = data.sample(frac = 0.1, random_state = 48) \n",
    "print(data.shape) \n",
    "print(data.describe()) "
   ]
  },
  {
   "cell_type": "code",
   "execution_count": 6,
   "metadata": {
    "execution": {
     "iopub.execute_input": "2020-08-29T20:05:25.527789Z",
     "iopub.status.busy": "2020-08-29T20:05:25.526859Z",
     "iopub.status.idle": "2020-08-29T20:05:25.646158Z",
     "shell.execute_reply": "2020-08-29T20:05:25.644923Z"
    },
    "papermill": {
     "duration": 0.148896,
     "end_time": "2020-08-29T20:05:25.646289",
     "exception": false,
     "start_time": "2020-08-29T20:05:25.497393",
     "status": "completed"
    },
    "tags": []
   },
   "outputs": [
    {
     "name": "stdout",
     "output_type": "stream",
     "text": [
      "0.0017304750013189597\n",
      "Fraud Cases: 492\n",
      "Valid Transactions: 284315\n"
     ]
    }
   ],
   "source": [
    "# Determine number of fraud cases in dataset \n",
    "fraud = data[data['Class'] == 1] \n",
    "valid = data[data['Class'] == 0] \n",
    "outlierFraction = len(fraud)/float(len(valid)) \n",
    "print(outlierFraction) \n",
    "print('Fraud Cases: {}'.format(len(data[data['Class'] == 1]))) \n",
    "print('Valid Transactions: {}'.format(len(data[data['Class'] == 0]))) "
   ]
  },
  {
   "cell_type": "code",
   "execution_count": 7,
   "metadata": {
    "execution": {
     "iopub.execute_input": "2020-08-29T20:05:25.752110Z",
     "iopub.status.busy": "2020-08-29T20:05:25.750315Z",
     "iopub.status.idle": "2020-08-29T20:05:25.753136Z",
     "shell.execute_reply": "2020-08-29T20:05:25.751283Z"
    },
    "papermill": {
     "duration": 0.057274,
     "end_time": "2020-08-29T20:05:25.753279",
     "exception": false,
     "start_time": "2020-08-29T20:05:25.696005",
     "status": "completed"
    },
    "tags": []
   },
   "outputs": [],
   "source": [
    "# Only 0.17% of all transactions are fraudulent. The data is highly imbalanced. \n",
    "# Let's apply our unbalanced models first, and if we don't get good accuracy, we can find a way to balance this dataset. \n",
    "# But first, let's implement the model without it and balance the data only when needed"
   ]
  },
  {
   "cell_type": "code",
   "execution_count": 8,
   "metadata": {
    "execution": {
     "iopub.execute_input": "2020-08-29T20:05:25.832558Z",
     "iopub.status.busy": "2020-08-29T20:05:25.831564Z",
     "iopub.status.idle": "2020-08-29T20:05:25.844005Z",
     "shell.execute_reply": "2020-08-29T20:05:25.844727Z"
    },
    "papermill": {
     "duration": 0.055893,
     "end_time": "2020-08-29T20:05:25.844942",
     "exception": false,
     "start_time": "2020-08-29T20:05:25.789049",
     "status": "completed"
    },
    "tags": []
   },
   "outputs": [
    {
     "name": "stdout",
     "output_type": "stream",
     "text": [
      "Amount details of the fraudulent transaction\n"
     ]
    },
    {
     "data": {
      "text/plain": [
       "count     492.000000\n",
       "mean      122.211321\n",
       "std       256.683288\n",
       "min         0.000000\n",
       "25%         1.000000\n",
       "50%         9.250000\n",
       "75%       105.890000\n",
       "max      2125.870000\n",
       "Name: Amount, dtype: float64"
      ]
     },
     "execution_count": 8,
     "metadata": {},
     "output_type": "execute_result"
    }
   ],
   "source": [
    "print('Amount details of the fraudulent transaction') \n",
    "fraud.Amount.describe() "
   ]
  },
  {
   "cell_type": "code",
   "execution_count": 9,
   "metadata": {
    "execution": {
     "iopub.execute_input": "2020-08-29T20:05:25.922475Z",
     "iopub.status.busy": "2020-08-29T20:05:25.921452Z",
     "iopub.status.idle": "2020-08-29T20:05:25.924109Z",
     "shell.execute_reply": "2020-08-29T20:05:25.923348Z"
    },
    "papermill": {
     "duration": 0.043617,
     "end_time": "2020-08-29T20:05:25.924235",
     "exception": false,
     "start_time": "2020-08-29T20:05:25.880618",
     "status": "completed"
    },
    "tags": []
   },
   "outputs": [],
   "source": [
    "# As we can clearly see from this average monetary transaction there are more fraudulent transactions. This makes this problem"
   ]
  },
  {
   "cell_type": "code",
   "execution_count": 10,
   "metadata": {
    "execution": {
     "iopub.execute_input": "2020-08-29T20:05:26.008554Z",
     "iopub.status.busy": "2020-08-29T20:05:26.007769Z",
     "iopub.status.idle": "2020-08-29T20:05:27.434025Z",
     "shell.execute_reply": "2020-08-29T20:05:27.433471Z"
    },
    "papermill": {
     "duration": 1.474523,
     "end_time": "2020-08-29T20:05:27.434131",
     "exception": false,
     "start_time": "2020-08-29T20:05:25.959608",
     "status": "completed"
    },
    "tags": []
   },
   "outputs": [
    {
     "data": {
      "image/png": "[encoded data removed]",
      "text/plain": [
       "<Figure size 864x648 with 2 Axes>"
      ]
     },
     "metadata": {
      "needs_background": "light"
     },
     "output_type": "display_data"
    }
   ],
   "source": [
    "# Correlation graphically gives us an idea of how features correlate with each other and can help us predict which features are most important to a forecast\n",
    "# Correlation matrix \n",
    "corrmat = data.corr() \n",
    "fig = plt.figure(figsize = (12, 9)) \n",
    "sns.heatmap(corrmat, vmax = .8, square = True) \n",
    "plt.show() "
   ]
  },
  {
   "cell_type": "code",
   "execution_count": 11,
   "metadata": {
    "execution": {
     "iopub.execute_input": "2020-08-29T20:05:27.491382Z",
     "iopub.status.busy": "2020-08-29T20:05:27.489613Z",
     "iopub.status.idle": "2020-08-29T20:05:27.492055Z",
     "shell.execute_reply": "2020-08-29T20:05:27.492504Z"
    },
    "papermill": {
     "duration": 0.031641,
     "end_time": "2020-08-29T20:05:27.492607",
     "exception": false,
     "start_time": "2020-08-29T20:05:27.460966",
     "status": "completed"
    },
    "tags": []
   },
   "outputs": [],
   "source": [
    "# In the heat map, we can clearly see that most of the features are not correlated with other features, but there are some features that are positively or negatively correlated with each other. For example, V2 and V5 are strongly negatively correlated with the Amount function. \n",
    "# We also see some correlation with the V20 and Amount. \n",
    "# This gives us a deeper understanding of the data available to us"
   ]
  },
  {
   "cell_type": "code",
   "execution_count": 12,
   "metadata": {
    "execution": {
     "iopub.execute_input": "2020-08-29T20:05:27.571717Z",
     "iopub.status.busy": "2020-08-29T20:05:27.570904Z",
     "iopub.status.idle": "2020-08-29T20:05:27.575559Z",
     "shell.execute_reply": "2020-08-29T20:05:27.576337Z"
    },
    "papermill": {
     "duration": 0.058679,
     "end_time": "2020-08-29T20:05:27.576510",
     "exception": false,
     "start_time": "2020-08-29T20:05:27.517831",
     "status": "completed"
    },
    "tags": []
   },
   "outputs": [
    {
     "name": "stdout",
     "output_type": "stream",
     "text": [
      "(284807, 30)\n",
      "(284807,)\n"
     ]
    }
   ],
   "source": [
    "# dividing the X and the Y from the dataset \n",
    "X = data.drop(['Class'], axis = 1) \n",
    "Y = data[\"Class\"] \n",
    "print(X.shape) \n",
    "print(Y.shape) \n",
    "# getting just the values for the sake of processing  \n",
    "# (its a numpy array with no columns) \n",
    "xData = X.values \n",
    "yData = Y.values "
   ]
  },
  {
   "cell_type": "code",
   "execution_count": 13,
   "metadata": {
    "execution": {
     "iopub.execute_input": "2020-08-29T20:05:27.635280Z",
     "iopub.status.busy": "2020-08-29T20:05:27.634470Z",
     "iopub.status.idle": "2020-08-29T20:05:27.864871Z",
     "shell.execute_reply": "2020-08-29T20:05:27.864287Z"
    },
    "papermill": {
     "duration": 0.261197,
     "end_time": "2020-08-29T20:05:27.864983",
     "exception": false,
     "start_time": "2020-08-29T20:05:27.603786",
     "status": "completed"
    },
    "tags": []
   },
   "outputs": [],
   "source": [
    "# Using Skicit-learn to split data into training and testing sets \n",
    "from sklearn.model_selection import train_test_split \n",
    "# Split the data into training and testing sets \n",
    "xTrain, xTest, yTrain, yTest = train_test_split( \n",
    "        xData, yData, test_size = 0.2, random_state = 42) "
   ]
  },
  {
   "cell_type": "code",
   "execution_count": 14,
   "metadata": {
    "execution": {
     "iopub.execute_input": "2020-08-29T20:05:27.922040Z",
     "iopub.status.busy": "2020-08-29T20:05:27.921330Z",
     "iopub.status.idle": "2020-08-29T20:09:00.754137Z",
     "shell.execute_reply": "2020-08-29T20:09:00.754614Z"
    },
    "papermill": {
     "duration": 212.863533,
     "end_time": "2020-08-29T20:09:00.754815",
     "exception": false,
     "start_time": "2020-08-29T20:05:27.891282",
     "status": "completed"
    },
    "tags": []
   },
   "outputs": [],
   "source": [
    "# I will say in advance that in the course of my testing, the Random Forest algorithm coped best with the task, so I'll start with it\n",
    "# Building the Random Forest Classifier (RANDOM FOREST)  \n",
    "# Random Forest\n",
    "from sklearn.ensemble import RandomForestClassifier\n",
    "rfc = RandomForestClassifier() \n",
    "rfc.fit(xTrain, yTrain) \n",
    "# predictions \n",
    "yPred = rfc.predict(xTest) "
   ]
  },
  {
   "cell_type": "code",
   "execution_count": 15,
   "metadata": {
    "execution": {
     "iopub.execute_input": "2020-08-29T20:09:00.819463Z",
     "iopub.status.busy": "2020-08-29T20:09:00.818532Z",
     "iopub.status.idle": "2020-08-29T20:09:00.954923Z",
     "shell.execute_reply": "2020-08-29T20:09:00.955839Z"
    },
    "papermill": {
     "duration": 0.174217,
     "end_time": "2020-08-29T20:09:00.956063",
     "exception": false,
     "start_time": "2020-08-29T20:09:00.781846",
     "status": "completed"
    },
    "tags": []
   },
   "outputs": [
    {
     "name": "stdout",
     "output_type": "stream",
     "text": [
      "The model used is Random Forest classifier\n",
      "The accuracy is 0.9995611109160493\n",
      "The precision is 0.9866666666666667\n",
      "The recall is 0.7551020408163265\n",
      "The F1-Score is 0.8554913294797689\n",
      "The Matthews correlation coefficient is0.8629589216367891\n"
     ]
    }
   ],
   "source": [
    "# Evaluating the classifier \n",
    "# printing every score of the classifier \n",
    "# scoring in anything \n",
    "from sklearn.metrics import classification_report, accuracy_score  \n",
    "from sklearn.metrics import precision_score, recall_score \n",
    "from sklearn.metrics import f1_score, matthews_corrcoef \n",
    "from sklearn.metrics import confusion_matrix \n",
    "  \n",
    "n_outliers = len(fraud) \n",
    "n_errors = (yPred != yTest).sum() \n",
    "print(\"The model used is Random Forest classifier\") \n",
    "  \n",
    "acc = accuracy_score(yTest, yPred) \n",
    "print(\"The accuracy is {}\".format(acc)) \n",
    "  \n",
    "prec = precision_score(yTest, yPred) \n",
    "print(\"The precision is {}\".format(prec)) \n",
    "  \n",
    "rec = recall_score(yTest, yPred) \n",
    "print(\"The recall is {}\".format(rec)) \n",
    "  \n",
    "f1 = f1_score(yTest, yPred) \n",
    "print(\"The F1-Score is {}\".format(f1)) \n",
    "  \n",
    "MCC = matthews_corrcoef(yTest, yPred) \n",
    "print(\"The Matthews correlation coefficient is{}\".format(MCC)) "
   ]
  },
  {
   "cell_type": "code",
   "execution_count": 16,
   "metadata": {
    "execution": {
     "iopub.execute_input": "2020-08-29T20:09:01.023148Z",
     "iopub.status.busy": "2020-08-29T20:09:01.022040Z",
     "iopub.status.idle": "2020-08-29T20:09:01.285740Z",
     "shell.execute_reply": "2020-08-29T20:09:01.286230Z"
    },
    "papermill": {
     "duration": 0.300015,
     "end_time": "2020-08-29T20:09:01.286359",
     "exception": false,
     "start_time": "2020-08-29T20:09:00.986344",
     "status": "completed"
    },
    "tags": []
   },
   "outputs": [
    {
     "data": {
      "image/png": "[encoded data removed]",
      "text/plain": [
       "<Figure size 864x864 with 2 Axes>"
      ]
     },
     "metadata": {
      "needs_background": "light"
     },
     "output_type": "display_data"
    }
   ],
   "source": [
    "# printing the confusion matrix \n",
    "LABELS = ['Normal', 'Fraud'] \n",
    "conf_matrix = confusion_matrix(yTest, yPred) \n",
    "plt.figure(figsize =(12, 12)) \n",
    "sns.heatmap(conf_matrix, xticklabels = LABELS,  \n",
    "            yticklabels = LABELS, annot = True, fmt =\"d\"); \n",
    "plt.title(\"Confusion matrix\") \n",
    "plt.ylabel('True class') \n",
    "plt.xlabel('Predicted class') \n",
    "plt.show() "
   ]
  },
  {
   "cell_type": "code",
   "execution_count": 17,
   "metadata": {
    "execution": {
     "iopub.execute_input": "2020-08-29T20:09:01.350095Z",
     "iopub.status.busy": "2020-08-29T20:09:01.349507Z",
     "iopub.status.idle": "2020-08-29T20:09:01.355252Z",
     "shell.execute_reply": "2020-08-29T20:09:01.354777Z"
    },
    "papermill": {
     "duration": 0.039311,
     "end_time": "2020-08-29T20:09:01.355353",
     "exception": false,
     "start_time": "2020-08-29T20:09:01.316042",
     "status": "completed"
    },
    "tags": []
   },
   "outputs": [],
   "source": [
    "# Let's check the rest of the algorithms\n",
    "# Importing Libraries\n",
    "from sklearn import linear_model\n",
    "from sklearn.linear_model import LogisticRegression\n",
    "from sklearn.ensemble import RandomForestClassifier\n",
    "from sklearn.linear_model import Perceptron\n",
    "from sklearn.linear_model import SGDClassifier\n",
    "from sklearn.tree import DecisionTreeClassifier\n",
    "from sklearn.neighbors import KNeighborsClassifier\n",
    "from sklearn.svm import SVC, LinearSVC\n",
    "from sklearn.naive_bayes import GaussianNB\n",
    "from sklearn.metrics import classification_report\n",
    "from sklearn import metrics "
   ]
  },
  {
   "cell_type": "code",
   "execution_count": 18,
   "metadata": {
    "execution": {
     "iopub.execute_input": "2020-08-29T20:09:01.416872Z",
     "iopub.status.busy": "2020-08-29T20:09:01.415799Z",
     "iopub.status.idle": "2020-08-29T20:09:21.357866Z",
     "shell.execute_reply": "2020-08-29T20:09:21.358332Z"
    },
    "papermill": {
     "duration": 19.975014,
     "end_time": "2020-08-29T20:09:21.358481",
     "exception": false,
     "start_time": "2020-08-29T20:09:01.383467",
     "status": "completed"
    },
    "tags": []
   },
   "outputs": [
    {
     "data": {
      "text/plain": [
       "100.0"
      ]
     },
     "execution_count": 18,
     "metadata": {},
     "output_type": "execute_result"
    }
   ],
   "source": [
    "# Decision Tree\n",
    "decision_tree = DecisionTreeClassifier()\n",
    "decision_tree.fit(xTrain, yTrain)\n",
    "# predictions \n",
    "yPred = decision_tree.predict(xTest)\n",
    "acc_decision_tree = round(decision_tree.score(xTrain, yTrain) * 100, 2)\n",
    "acc_decision_tree"
   ]
  },
  {
   "cell_type": "code",
   "execution_count": 19,
   "metadata": {
    "execution": {
     "iopub.execute_input": "2020-08-29T20:09:21.497195Z",
     "iopub.status.busy": "2020-08-29T20:09:21.496240Z",
     "iopub.status.idle": "2020-08-29T20:09:21.631678Z",
     "shell.execute_reply": "2020-08-29T20:09:21.631043Z"
    },
    "papermill": {
     "duration": 0.243961,
     "end_time": "2020-08-29T20:09:21.631811",
     "exception": false,
     "start_time": "2020-08-29T20:09:21.387850",
     "status": "completed"
    },
    "tags": []
   },
   "outputs": [
    {
     "name": "stdout",
     "output_type": "stream",
     "text": [
      "The model used is Decision Tree\n",
      "The accuracy is 0.9995611109160493\n",
      "The precision is 0.9866666666666667\n",
      "The recall is 0.7551020408163265\n",
      "The F1-Score is 0.7809523809523811\n",
      "The Matthews correlation coefficient is0.8629589216367891\n"
     ]
    }
   ],
   "source": [
    "# While the decision tree\n",
    "# does a good job too\n",
    "# Let's take a closer look\n",
    "n_outliers2 = len(fraud) \n",
    "n_errors2 = (yPred != yTest).sum() \n",
    "print(\"The model used is Decision Tree\") \n",
    "  \n",
    "acc2 = accuracy_score(yTest, yPred) \n",
    "print(\"The accuracy is {}\".format(acc)) \n",
    "  \n",
    "prec2 = precision_score(yTest, yPred) \n",
    "print(\"The precision is {}\".format(prec)) \n",
    "  \n",
    "rec2 = recall_score(yTest, yPred) \n",
    "print(\"The recall is {}\".format(rec)) \n",
    "  \n",
    "f1 = f1_score(yTest, yPred) \n",
    "print(\"The F1-Score is {}\".format(f1)) \n",
    "  \n",
    "MCC2 = matthews_corrcoef(yTest, yPred) \n",
    "print(\"The Matthews correlation coefficient is{}\".format(MCC)) "
   ]
  },
  {
   "cell_type": "code",
   "execution_count": 20,
   "metadata": {
    "execution": {
     "iopub.execute_input": "2020-08-29T20:09:21.700458Z",
     "iopub.status.busy": "2020-08-29T20:09:21.699273Z",
     "iopub.status.idle": "2020-08-29T20:12:54.628405Z",
     "shell.execute_reply": "2020-08-29T20:12:54.628919Z"
    },
    "papermill": {
     "duration": 212.966328,
     "end_time": "2020-08-29T20:12:54.629058",
     "exception": false,
     "start_time": "2020-08-29T20:09:21.662730",
     "status": "completed"
    },
    "tags": []
   },
   "outputs": [
    {
     "data": {
      "text/plain": [
       "100.0"
      ]
     },
     "execution_count": 20,
     "metadata": {},
     "output_type": "execute_result"
    }
   ],
   "source": [
    "# Random Forest\n",
    "random_forest = RandomForestClassifier(n_estimators=100)\n",
    "random_forest.fit(xTrain, yTrain)\n",
    "y_pred = random_forest.predict(xTest)\n",
    "random_forest.score(xTrain, yTrain)\n",
    "acc_random_forest = round(random_forest.score(xTrain, yTrain) * 100, 2)\n",
    "acc_random_forest"
   ]
  },
  {
   "cell_type": "code",
   "execution_count": 21,
   "metadata": {
    "execution": {
     "iopub.execute_input": "2020-08-29T20:12:54.691468Z",
     "iopub.status.busy": "2020-08-29T20:12:54.690738Z",
     "iopub.status.idle": "2020-08-29T20:12:54.693766Z",
     "shell.execute_reply": "2020-08-29T20:12:54.693277Z"
    },
    "papermill": {
     "duration": 0.035308,
     "end_time": "2020-08-29T20:12:54.693866",
     "exception": false,
     "start_time": "2020-08-29T20:12:54.658558",
     "status": "completed"
    },
    "tags": []
   },
   "outputs": [],
   "source": [
    "# As I wrote earlier, the best result is given by a Random Forest, so there is no point in describing in detail"
   ]
  },
  {
   "cell_type": "code",
   "execution_count": 22,
   "metadata": {
    "execution": {
     "iopub.execute_input": "2020-08-29T20:12:54.760071Z",
     "iopub.status.busy": "2020-08-29T20:12:54.759111Z",
     "iopub.status.idle": "2020-08-29T20:12:55.089019Z",
     "shell.execute_reply": "2020-08-29T20:12:55.089603Z"
    },
    "papermill": {
     "duration": 0.366259,
     "end_time": "2020-08-29T20:12:55.089795",
     "exception": false,
     "start_time": "2020-08-29T20:12:54.723536",
     "status": "completed"
    },
    "tags": []
   },
   "outputs": [
    {
     "name": "stdout",
     "output_type": "stream",
     "text": [
      "              precision    recall  f1-score   support\n",
      "\n",
      "           0       1.00      0.99      1.00     56864\n",
      "           1       0.15      0.63      0.24        98\n",
      "\n",
      "    accuracy                           0.99     56962\n",
      "   macro avg       0.57      0.81      0.62     56962\n",
      "weighted avg       1.00      0.99      1.00     56962\n",
      "\n",
      "accuracy: 0.9930128857835048\n"
     ]
    }
   ],
   "source": [
    "# Gaussian Naive Bayes\n",
    "gaussian = GaussianNB()\n",
    "gaussian.fit(xTrain, yTrain)\n",
    "y_pred = gaussian.predict(xTest)\n",
    "acc_gaussian = round(gaussian.score(xTrain, yTrain) * 100, 2)\n",
    "acc_gaussian\n",
    "print(classification_report(yTest, y_pred))\n",
    "print(\"accuracy:\",metrics.accuracy_score(yTest, y_pred))"
   ]
  },
  {
   "cell_type": "code",
   "execution_count": 23,
   "metadata": {
    "execution": {
     "iopub.execute_input": "2020-08-29T20:12:55.164293Z",
     "iopub.status.busy": "2020-08-29T20:12:55.163318Z",
     "iopub.status.idle": "2020-08-29T20:12:55.954512Z",
     "shell.execute_reply": "2020-08-29T20:12:55.955281Z"
    },
    "papermill": {
     "duration": 0.835369,
     "end_time": "2020-08-29T20:12:55.955454",
     "exception": false,
     "start_time": "2020-08-29T20:12:55.120085",
     "status": "completed"
    },
    "tags": []
   },
   "outputs": [
    {
     "name": "stdout",
     "output_type": "stream",
     "text": [
      "              precision    recall  f1-score   support\n",
      "\n",
      "           0       1.00      1.00      1.00     56864\n",
      "           1       0.00      0.00      0.00        98\n",
      "\n",
      "    accuracy                           1.00     56962\n",
      "   macro avg       0.50      0.50      0.50     56962\n",
      "weighted avg       1.00      1.00      1.00     56962\n",
      "\n",
      "accuracy: 0.9981917769741231\n"
     ]
    }
   ],
   "source": [
    "# Perceptron\n",
    "perceptron = Perceptron()\n",
    "perceptron.fit(xTrain, yTrain)\n",
    "y_pred = perceptron.predict(xTest)\n",
    "acc_perceptron = round(perceptron.score(xTrain, yTrain) * 100, 2)\n",
    "acc_perceptron\n",
    "print(classification_report(yTest, y_pred))\n",
    "print(\"accuracy:\",metrics.accuracy_score(yTest, y_pred))"
   ]
  },
  {
   "cell_type": "code",
   "execution_count": 24,
   "metadata": {
    "execution": {
     "iopub.execute_input": "2020-08-29T20:12:56.023497Z",
     "iopub.status.busy": "2020-08-29T20:12:56.022529Z",
     "iopub.status.idle": "2020-08-29T20:13:36.262468Z",
     "shell.execute_reply": "2020-08-29T20:13:36.261602Z"
    },
    "papermill": {
     "duration": 40.276705,
     "end_time": "2020-08-29T20:13:36.262728",
     "exception": false,
     "start_time": "2020-08-29T20:12:55.986023",
     "status": "completed"
    },
    "tags": []
   },
   "outputs": [
    {
     "name": "stdout",
     "output_type": "stream",
     "text": [
      "              precision    recall  f1-score   support\n",
      "\n",
      "           0       1.00      1.00      1.00     56864\n",
      "           1       0.71      0.20      0.32        98\n",
      "\n",
      "    accuracy                           1.00     56962\n",
      "   macro avg       0.86      0.60      0.66     56962\n",
      "weighted avg       1.00      1.00      1.00     56962\n",
      "\n",
      "accuracy: 0.9984902215512096\n"
     ]
    },
    {
     "name": "stderr",
     "output_type": "stream",
     "text": [
      "/opt/conda/lib/python3.7/site-packages/sklearn/svm/_base.py:977: ConvergenceWarning: Liblinear failed to converge, increase the number of iterations.\n",
      "  \"the number of iterations.\", ConvergenceWarning)\n"
     ]
    }
   ],
   "source": [
    "# Linear SVC\n",
    "linear_svc = LinearSVC()\n",
    "linear_svc.fit(xTrain, yTrain)\n",
    "y_pred = linear_svc.predict(xTest)\n",
    "acc_linear_svc = round(linear_svc.score(xTrain, yTrain) * 100, 2)\n",
    "acc_linear_svc\n",
    "print(classification_report(yTest, y_pred))\n",
    "print(\"accuracy:\",metrics.accuracy_score(yTest, y_pred))"
   ]
  },
  {
   "cell_type": "code",
   "execution_count": 25,
   "metadata": {
    "execution": {
     "iopub.execute_input": "2020-08-29T20:13:36.334036Z",
     "iopub.status.busy": "2020-08-29T20:13:36.332766Z",
     "iopub.status.idle": "2020-08-29T20:13:45.172891Z",
     "shell.execute_reply": "2020-08-29T20:13:45.173854Z"
    },
    "papermill": {
     "duration": 8.878537,
     "end_time": "2020-08-29T20:13:45.174068",
     "exception": false,
     "start_time": "2020-08-29T20:13:36.295531",
     "status": "completed"
    },
    "tags": []
   },
   "outputs": [
    {
     "name": "stdout",
     "output_type": "stream",
     "text": [
      "              precision    recall  f1-score   support\n",
      "\n",
      "           0       1.00      1.00      1.00     56864\n",
      "           1       0.00      0.00      0.00        98\n",
      "\n",
      "    accuracy                           1.00     56962\n",
      "   macro avg       0.50      0.50      0.50     56962\n",
      "weighted avg       1.00      1.00      1.00     56962\n",
      "\n",
      "accuracy: 0.9982093325374811\n"
     ]
    }
   ],
   "source": [
    "# Stochastic Gradient Descent\n",
    "sgd = SGDClassifier()\n",
    "sgd.fit(xTrain, yTrain)\n",
    "y_pred = sgd.predict(xTest)\n",
    "acc_sgd = round(sgd.score(xTrain, yTrain) * 100, 2)\n",
    "acc_sgd\n",
    "print(classification_report(yTest, y_pred))\n",
    "print(\"accuracy:\",metrics.accuracy_score(yTest, y_pred))"
   ]
  },
  {
   "cell_type": "code",
   "execution_count": 26,
   "metadata": {
    "execution": {
     "iopub.execute_input": "2020-08-29T20:13:45.245022Z",
     "iopub.status.busy": "2020-08-29T20:13:45.243888Z",
     "iopub.status.idle": "2020-08-29T20:14:02.126798Z",
     "shell.execute_reply": "2020-08-29T20:14:02.125860Z"
    },
    "papermill": {
     "duration": 16.920739,
     "end_time": "2020-08-29T20:14:02.126911",
     "exception": false,
     "start_time": "2020-08-29T20:13:45.206172",
     "status": "completed"
    },
    "tags": []
   },
   "outputs": [
    {
     "name": "stdout",
     "output_type": "stream",
     "text": [
      "              precision    recall  f1-score   support\n",
      "\n",
      "           0       1.00      1.00      1.00     56864\n",
      "           1       1.00      0.09      0.17        98\n",
      "\n",
      "    accuracy                           1.00     56962\n",
      "   macro avg       1.00      0.55      0.58     56962\n",
      "weighted avg       1.00      1.00      1.00     56962\n",
      "\n",
      "accuracy: 0.9984375548611355\n"
     ]
    }
   ],
   "source": [
    "# K Nearest Neighbor:\n",
    "knn = KNeighborsClassifier(n_neighbors = 3)\n",
    "knn.fit(xTrain, yTrain)\n",
    "y_pred = knn.predict(xTest)\n",
    "acc_knn = round(knn.score(xTrain, yTrain) * 100, 2)\n",
    "acc_knn\n",
    "print(classification_report(yTest, y_pred))\n",
    "print(\"accuracy:\",metrics.accuracy_score(yTest, y_pred))"
   ]
  },
  {
   "cell_type": "code",
   "execution_count": 27,
   "metadata": {
    "execution": {
     "iopub.execute_input": "2020-08-29T20:14:02.198339Z",
     "iopub.status.busy": "2020-08-29T20:14:02.197367Z",
     "iopub.status.idle": "2020-08-29T20:14:30.403136Z",
     "shell.execute_reply": "2020-08-29T20:14:30.402555Z"
    },
    "papermill": {
     "duration": 28.24407,
     "end_time": "2020-08-29T20:14:30.403246",
     "exception": false,
     "start_time": "2020-08-29T20:14:02.159176",
     "status": "completed"
    },
    "tags": []
   },
   "outputs": [
    {
     "name": "stdout",
     "output_type": "stream",
     "text": [
      "              precision    recall  f1-score   support\n",
      "\n",
      "           0       1.00      1.00      1.00     56864\n",
      "           1       0.00      0.00      0.00        98\n",
      "\n",
      "    accuracy                           1.00     56962\n",
      "   macro avg       0.50      0.50      0.50     56962\n",
      "weighted avg       1.00      1.00      1.00     56962\n",
      "\n",
      "accuracy: 0.9982795547909132\n"
     ]
    },
    {
     "name": "stderr",
     "output_type": "stream",
     "text": [
      "/opt/conda/lib/python3.7/site-packages/sklearn/metrics/_classification.py:1221: UndefinedMetricWarning: Precision and F-score are ill-defined and being set to 0.0 in labels with no predicted samples. Use `zero_division` parameter to control this behavior.\n",
      "  _warn_prf(average, modifier, msg_start, len(result))\n"
     ]
    }
   ],
   "source": [
    "# Support Vector Machines\n",
    "svc = SVC()\n",
    "svc.fit(xTrain, yTrain)\n",
    "y_pred = svc.predict(xTest)\n",
    "acc_svc = round(svc.score(xTrain, yTrain) * 100, 2)\n",
    "acc_svc\n",
    "print(classification_report(yTest, y_pred))\n",
    "print(\"accuracy:\",metrics.accuracy_score(yTest, y_pred))"
   ]
  },
  {
   "cell_type": "code",
   "execution_count": 28,
   "metadata": {
    "execution": {
     "iopub.execute_input": "2020-08-29T20:14:30.476957Z",
     "iopub.status.busy": "2020-08-29T20:14:30.475976Z",
     "iopub.status.idle": "2020-08-29T20:15:36.435040Z",
     "shell.execute_reply": "2020-08-29T20:15:36.435838Z"
    },
    "papermill": {
     "duration": 65.999713,
     "end_time": "2020-08-29T20:15:36.436054",
     "exception": false,
     "start_time": "2020-08-29T20:14:30.436341",
     "status": "completed"
    },
    "tags": []
   },
   "outputs": [
    {
     "name": "stdout",
     "output_type": "stream",
     "text": [
      "              precision    recall  f1-score   support\n",
      "\n",
      "           0       1.00      1.00      1.00     56864\n",
      "           1       0.86      0.72      0.78        98\n",
      "\n",
      "    accuracy                           1.00     56962\n",
      "   macro avg       0.93      0.86      0.89     56962\n",
      "weighted avg       1.00      1.00      1.00     56962\n",
      "\n",
      "accuracy: 0.9993153330290369\n"
     ]
    }
   ],
   "source": [
    "# AdaBoost\n",
    "from sklearn.ensemble import AdaBoostClassifier\n",
    "Ada = AdaBoostClassifier(random_state=1)\n",
    "Ada.fit(xTrain, yTrain)\n",
    "y_pred = Ada.predict(xTest)\n",
    "acc_add = round(Ada.score(xTrain, yTrain) * 100, 2)\n",
    "acc_add\n",
    "print(classification_report(yTest, y_pred))\n",
    "print(\"accuracy:\",metrics.accuracy_score(yTest, y_pred))"
   ]
  },
  {
   "cell_type": "code",
   "execution_count": 29,
   "metadata": {
    "execution": {
     "iopub.execute_input": "2020-08-29T20:15:36.511066Z",
     "iopub.status.busy": "2020-08-29T20:15:36.510468Z",
     "iopub.status.idle": "2020-08-29T20:16:53.045215Z",
     "shell.execute_reply": "2020-08-29T20:16:53.045866Z"
    },
    "papermill": {
     "duration": 76.575256,
     "end_time": "2020-08-29T20:16:53.046029",
     "exception": false,
     "start_time": "2020-08-29T20:15:36.470773",
     "status": "completed"
    },
    "tags": []
   },
   "outputs": [
    {
     "name": "stdout",
     "output_type": "stream",
     "text": [
      "              precision    recall  f1-score   support\n",
      "\n",
      "           0       1.00      1.00      1.00     56864\n",
      "           1       0.99      0.80      0.88        98\n",
      "\n",
      "    accuracy                           1.00     56962\n",
      "   macro avg       0.99      0.90      0.94     56962\n",
      "weighted avg       1.00      1.00      1.00     56962\n",
      "\n",
      "accuracy: 0.9996313331694814\n"
     ]
    }
   ],
   "source": [
    "# XGBoost\n",
    "import xgboost as xgb\n",
    "XGB = xgb.XGBClassifier(random_state=1)\n",
    "XGB.fit(xTrain, yTrain)\n",
    "y_pred = XGB.predict(xTest)\n",
    "acc_XGB = round(XGB.score(xTrain, yTrain) * 100, 2)\n",
    "acc_XGB\n",
    "print(classification_report(yTest, y_pred))\n",
    "print(\"accuracy:\",metrics.accuracy_score(yTest, y_pred))"
   ]
  },
  {
   "cell_type": "code",
   "execution_count": 30,
   "metadata": {
    "execution": {
     "iopub.execute_input": "2020-08-29T20:16:53.134659Z",
     "iopub.status.busy": "2020-08-29T20:16:53.133491Z",
     "iopub.status.idle": "2020-08-29T20:16:53.138713Z",
     "shell.execute_reply": "2020-08-29T20:16:53.139179Z"
    },
    "papermill": {
     "duration": 0.055029,
     "end_time": "2020-08-29T20:16:53.139299",
     "exception": false,
     "start_time": "2020-08-29T20:16:53.084270",
     "status": "completed"
    },
    "tags": []
   },
   "outputs": [
    {
     "data": {
      "text/html": [
       "<div>\n",
       "<style scoped>\n",
       "    .dataframe tbody tr th:only-of-type {\n",
       "        vertical-align: middle;\n",
       "    }\n",
       "\n",
       "    .dataframe tbody tr th {\n",
       "        vertical-align: top;\n",
       "    }\n",
       "\n",
       "    .dataframe thead th {\n",
       "        text-align: right;\n",
       "    }\n",
       "</style>\n",
       "<table border=\"1\" class=\"dataframe\">\n",
       "  <thead>\n",
       "    <tr style=\"text-align: right;\">\n",
       "      <th></th>\n",
       "      <th>MODEL</th>\n",
       "    </tr>\n",
       "    <tr>\n",
       "      <th>SCORE</th>\n",
       "      <th></th>\n",
       "    </tr>\n",
       "  </thead>\n",
       "  <tbody>\n",
       "    <tr>\n",
       "      <th>100.00</th>\n",
       "      <td>Random Forest</td>\n",
       "    </tr>\n",
       "    <tr>\n",
       "      <th>100.00</th>\n",
       "      <td>Decision Tree</td>\n",
       "    </tr>\n",
       "    <tr>\n",
       "      <th>100.00</th>\n",
       "      <td>AdaBoost</td>\n",
       "    </tr>\n",
       "    <tr>\n",
       "      <th>99.93</th>\n",
       "      <td>XGBoost</td>\n",
       "    </tr>\n",
       "    <tr>\n",
       "      <th>99.86</th>\n",
       "      <td>KNN</td>\n",
       "    </tr>\n",
       "    <tr>\n",
       "      <th>99.85</th>\n",
       "      <td>Support Vector Machines</td>\n",
       "    </tr>\n",
       "    <tr>\n",
       "      <th>99.82</th>\n",
       "      <td>Logistic Regression</td>\n",
       "    </tr>\n",
       "    <tr>\n",
       "      <th>99.82</th>\n",
       "      <td>Perceptron</td>\n",
       "    </tr>\n",
       "    <tr>\n",
       "      <th>99.82</th>\n",
       "      <td>Stochastic Gradient Decent</td>\n",
       "    </tr>\n",
       "    <tr>\n",
       "      <th>99.35</th>\n",
       "      <td>Naive Bayes</td>\n",
       "    </tr>\n",
       "  </tbody>\n",
       "</table>\n",
       "</div>"
      ],
      "text/plain": [
       "                             MODEL\n",
       "SCORE                             \n",
       "100.00               Random Forest\n",
       "100.00               Decision Tree\n",
       "100.00                    AdaBoost\n",
       "99.93                      XGBoost\n",
       "99.86                          KNN\n",
       "99.85      Support Vector Machines\n",
       "99.82          Logistic Regression\n",
       "99.82                   Perceptron\n",
       "99.82   Stochastic Gradient Decent\n",
       "99.35                  Naive Bayes"
      ]
     },
     "execution_count": 30,
     "metadata": {},
     "output_type": "execute_result"
    }
   ],
   "source": [
    "# Now let's create a table and see what we get\n",
    "import pandas as pd\n",
    "\n",
    "Result = pd.DataFrame({\n",
    "    'MODEL': ['Support Vector Machines', 'KNN', 'Logistic Regression',\n",
    "              'Random Forest','Naive Bayes', 'Perceptron', \n",
    "              'Stochastic Gradient Decent','Decision Tree', 'AdaBoost', 'XGBoost'],\n",
    "    'SCORE': [acc_linear_svc, acc_knn, acc_sgd,acc_random_forest, \n",
    "              acc_gaussian, acc_perceptron, \n",
    "              acc_sgd, acc_decision_tree, acc_XGB, acc_add]})\n",
    "Result = Result.sort_values(by='SCORE', ascending=False)\n",
    "Result = Result.set_index('SCORE')\n",
    "Result.head(10)"
   ]
  }
 ],
 "metadata": {
  "kernelspec": {
   "display_name": "Python 3",
   "language": "python",
   "name": "python3"
  },
  "language_info": {
   "codemirror_mode": {
    "name": "ipython",
    "version": 3
   },
   "file_extension": ".py",
   "mimetype": "text/x-python",
   "name": "python",
   "nbconvert_exporter": "python",
   "pygments_lexer": "ipython3",
   "version": "3.7.6"
  },
  "papermill": {
   "duration": 696.111605,
   "end_time": "2020-08-29T20:16:53.483699",
   "environment_variables": {},
   "exception": null,
   "input_path": "__notebook__.ipynb",
   "output_path": "__notebook__.ipynb",
   "parameters": {},
   "start_time": "2020-08-29T20:05:17.372094",
   "version": "2.1.0"
  }
 },
 "nbformat": 4,
 "nbformat_minor": 4
}
